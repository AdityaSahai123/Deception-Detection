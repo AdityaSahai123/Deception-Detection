{
 "cells": [
  {
   "cell_type": "code",
   "execution_count": 1,
   "id": "531c81f3",
   "metadata": {
    "ExecuteTime": {
     "end_time": "2025-03-25T11:32:05.241943Z",
     "start_time": "2025-03-25T11:32:01.649754Z"
    },
    "execution": {
     "iopub.execute_input": "2025-03-25T12:05:54.616574Z",
     "iopub.status.busy": "2025-03-25T12:05:54.616235Z",
     "iopub.status.idle": "2025-03-25T12:06:00.389603Z",
     "shell.execute_reply": "2025-03-25T12:06:00.388671Z"
    },
    "papermill": {
     "duration": 5.785623,
     "end_time": "2025-03-25T12:06:00.391242",
     "exception": false,
     "start_time": "2025-03-25T12:05:54.605619",
     "status": "completed"
    },
    "tags": []
   },
   "outputs": [],
   "source": [
    "import pandas as pd\n",
    "import numpy as np\n",
    "import json\n",
    "import re\n",
    "import torch\n",
    "import torch.nn as nn\n",
    "import torch.optim as optim\n",
    "from torch.utils.data import Dataset, DataLoader, WeightedRandomSampler\n",
    "from sklearn.metrics import accuracy_score, classification_report, confusion_matrix, f1_score\n",
    "from tqdm import tqdm\n",
    "from collections import Counter\n",
    "import matplotlib.pyplot as plt\n",
    "import seaborn as sns"
   ]
  },
  {
   "cell_type": "code",
   "execution_count": 2,
   "id": "4ce7a7b4",
   "metadata": {
    "ExecuteTime": {
     "end_time": "2025-03-25T11:32:05.260189Z",
     "start_time": "2025-03-25T11:32:05.245866Z"
    },
    "execution": {
     "iopub.execute_input": "2025-03-25T12:06:00.409624Z",
     "iopub.status.busy": "2025-03-25T12:06:00.409276Z",
     "iopub.status.idle": "2025-03-25T12:06:00.416390Z",
     "shell.execute_reply": "2025-03-25T12:06:00.415768Z"
    },
    "papermill": {
     "duration": 0.017435,
     "end_time": "2025-03-25T12:06:00.417667",
     "exception": false,
     "start_time": "2025-03-25T12:06:00.400232",
     "status": "completed"
    },
    "tags": []
   },
   "outputs": [],
   "source": [
    "# Set random seed for reproducibility\n",
    "torch.manual_seed(42)\n",
    "np.random.seed(42)\n",
    "\n",
    "# Hyperparameters\n",
    "MAX_VOCAB_SIZE = 10000\n",
    "MAX_SEQ_LENGTH = 100\n",
    "EMBEDDING_DIM = 100\n",
    "HIDDEN_DIM = 64\n",
    "BATCH_SIZE = 32\n",
    "LEARNING_RATE = 0.0008\n",
    "NUM_EPOCHS = 15\n",
    "DROPOUT_RATE = 0.6\n",
    "FOCAL_LOSS_GAMMA = 2.0  # Parameter for focal loss"
   ]
  },
  {
   "cell_type": "markdown",
   "id": "c819c500",
   "metadata": {
    "papermill": {
     "duration": 0.008348,
     "end_time": "2025-03-25T12:06:00.434623",
     "exception": false,
     "start_time": "2025-03-25T12:06:00.426275",
     "status": "completed"
    },
    "tags": []
   },
   "source": [
    "## Load Data"
   ]
  },
  {
   "cell_type": "code",
   "execution_count": 3,
   "id": "da61135d",
   "metadata": {
    "ExecuteTime": {
     "end_time": "2025-03-25T11:32:05.769626Z",
     "start_time": "2025-03-25T11:32:05.762540Z"
    },
    "execution": {
     "iopub.execute_input": "2025-03-25T12:06:00.451905Z",
     "iopub.status.busy": "2025-03-25T12:06:00.451665Z",
     "iopub.status.idle": "2025-03-25T12:06:00.454547Z",
     "shell.execute_reply": "2025-03-25T12:06:00.453963Z"
    },
    "papermill": {
     "duration": 0.012887,
     "end_time": "2025-03-25T12:06:00.455709",
     "exception": false,
     "start_time": "2025-03-25T12:06:00.442822",
     "status": "completed"
    },
    "tags": []
   },
   "outputs": [],
   "source": [
    "# File paths (Kaggle)\n",
    "TRAIN_PATH = '/kaggle/input/deception/train (1).jsonl'\n",
    "VALIDATION_PATH = '/kaggle/input/deception/validation.jsonl'\n",
    "TEST_PATH = '/kaggle/input/deception/test.jsonl'\n",
    "\n",
    "# File paths (local)\n",
    "#TRAIN_PATH = 'data/train.jsonl'\n",
    "#VALIDATION_PATH = 'data/validation.jsonl'\n",
    "#TEST_PATH = 'data/test.jsonl'"
   ]
  },
  {
   "cell_type": "code",
   "execution_count": 4,
   "id": "b8b54f02",
   "metadata": {
    "ExecuteTime": {
     "end_time": "2025-03-25T11:32:05.790176Z",
     "start_time": "2025-03-25T11:32:05.777817Z"
    },
    "execution": {
     "iopub.execute_input": "2025-03-25T12:06:00.473037Z",
     "iopub.status.busy": "2025-03-25T12:06:00.472789Z",
     "iopub.status.idle": "2025-03-25T12:06:00.478210Z",
     "shell.execute_reply": "2025-03-25T12:06:00.477587Z"
    },
    "papermill": {
     "duration": 0.015301,
     "end_time": "2025-03-25T12:06:00.479315",
     "exception": false,
     "start_time": "2025-03-25T12:06:00.464014",
     "status": "completed"
    },
    "tags": []
   },
   "outputs": [],
   "source": [
    "# Load and preprocess data\n",
    "def load_data(file_path):\n",
    "    data = []\n",
    "    with open(file_path, 'r') as f:\n",
    "        for line in f:\n",
    "            game_data = json.loads(line.strip())\n",
    "\n",
    "            for i in range(len(game_data['messages'])):\n",
    "                if game_data['sender_labels'][i] == \"NOANNOTATION\":\n",
    "                    continue\n",
    "\n",
    "                entry = {\n",
    "                    'message': game_data['messages'][i],\n",
    "                    'speaker': game_data['speakers'][i],\n",
    "                    'receiver': game_data['receivers'][i],\n",
    "                    'score_delta': float(game_data['game_score_delta'][i]) if 'game_score_delta' in game_data else 0,\n",
    "                    'abs_msg_idx': game_data['absolute_message_index'][i],\n",
    "                    'rel_msg_idx': game_data['relative_message_index'][i],\n",
    "                    'year': int(game_data['years'][i]) if 'years' in game_data else 1900,\n",
    "                    'season': game_data['seasons'][i] if 'seasons' in game_data else \"Unknown\",\n",
    "                    'message_length': len(game_data['messages'][i]),\n",
    "                    'is_deceptive': 1 if game_data['sender_labels'][i] == False else 0  # deceptive=1, truthful=0\n",
    "                }\n",
    "                data.append(entry)\n",
    "\n",
    "    return pd.DataFrame(data)"
   ]
  },
  {
   "cell_type": "code",
   "execution_count": 5,
   "id": "5e05ad84",
   "metadata": {
    "ExecuteTime": {
     "end_time": "2025-03-25T11:32:05.898268Z",
     "start_time": "2025-03-25T11:32:05.806238Z"
    },
    "execution": {
     "iopub.execute_input": "2025-03-25T12:06:00.496935Z",
     "iopub.status.busy": "2025-03-25T12:06:00.496709Z",
     "iopub.status.idle": "2025-03-25T12:06:00.663709Z",
     "shell.execute_reply": "2025-03-25T12:06:00.662623Z"
    },
    "papermill": {
     "duration": 0.177271,
     "end_time": "2025-03-25T12:06:00.665227",
     "exception": false,
     "start_time": "2025-03-25T12:06:00.487956",
     "status": "completed"
    },
    "tags": []
   },
   "outputs": [
    {
     "name": "stdout",
     "output_type": "stream",
     "text": [
      "Loading datasets...\n"
     ]
    }
   ],
   "source": [
    "# Load datasets\n",
    "print(\"Loading datasets...\")\n",
    "train_df = load_data(TRAIN_PATH)\n",
    "val_df = load_data(VALIDATION_PATH)\n",
    "test_df = load_data(TEST_PATH)"
   ]
  },
  {
   "cell_type": "code",
   "execution_count": 6,
   "id": "fc1d57ba",
   "metadata": {
    "ExecuteTime": {
     "end_time": "2025-03-25T11:32:05.907907Z",
     "start_time": "2025-03-25T11:32:05.898268Z"
    },
    "execution": {
     "iopub.execute_input": "2025-03-25T12:06:00.683191Z",
     "iopub.status.busy": "2025-03-25T12:06:00.682868Z",
     "iopub.status.idle": "2025-03-25T12:06:00.686845Z",
     "shell.execute_reply": "2025-03-25T12:06:00.686219Z"
    },
    "papermill": {
     "duration": 0.014102,
     "end_time": "2025-03-25T12:06:00.688085",
     "exception": false,
     "start_time": "2025-03-25T12:06:00.673983",
     "status": "completed"
    },
    "tags": []
   },
   "outputs": [
    {
     "name": "stdout",
     "output_type": "stream",
     "text": [
      "Train size: 13132, Validation size: 1416, Test size: 2741\n"
     ]
    }
   ],
   "source": [
    "print(f\"Train size: {len(train_df)}, Validation size: {len(val_df)}, Test size: {len(test_df)}\")"
   ]
  },
  {
   "cell_type": "code",
   "execution_count": 7,
   "id": "f6b1b9a1",
   "metadata": {
    "ExecuteTime": {
     "end_time": "2025-03-25T11:32:05.932620Z",
     "start_time": "2025-03-25T11:32:05.925751Z"
    },
    "execution": {
     "iopub.execute_input": "2025-03-25T12:06:00.705694Z",
     "iopub.status.busy": "2025-03-25T12:06:00.705463Z",
     "iopub.status.idle": "2025-03-25T12:06:00.720229Z",
     "shell.execute_reply": "2025-03-25T12:06:00.719409Z"
    },
    "papermill": {
     "duration": 0.024955,
     "end_time": "2025-03-25T12:06:00.721516",
     "exception": false,
     "start_time": "2025-03-25T12:06:00.696561",
     "status": "completed"
    },
    "tags": []
   },
   "outputs": [
    {
     "name": "stdout",
     "output_type": "stream",
     "text": [
      "Class distribution in training data:\n",
      "is_deceptive\n",
      "0    0.954995\n",
      "1    0.045005\n",
      "Name: proportion, dtype: float64\n"
     ]
    }
   ],
   "source": [
    "# Show class distribution\n",
    "print(\"Class distribution in training data:\")\n",
    "class_dist = train_df['is_deceptive'].value_counts(normalize=True)\n",
    "print(class_dist)"
   ]
  },
  {
   "cell_type": "markdown",
   "id": "339c395d",
   "metadata": {
    "papermill": {
     "duration": 0.008312,
     "end_time": "2025-03-25T12:06:00.738582",
     "exception": false,
     "start_time": "2025-03-25T12:06:00.730270",
     "status": "completed"
    },
    "tags": []
   },
   "source": [
    "## Preprocess Data"
   ]
  },
  {
   "cell_type": "code",
   "execution_count": 8,
   "id": "1bd8fe2a",
   "metadata": {
    "ExecuteTime": {
     "end_time": "2025-03-25T11:32:05.953055Z",
     "start_time": "2025-03-25T11:32:05.948559Z"
    },
    "execution": {
     "iopub.execute_input": "2025-03-25T12:06:00.756348Z",
     "iopub.status.busy": "2025-03-25T12:06:00.756132Z",
     "iopub.status.idle": "2025-03-25T12:06:00.759528Z",
     "shell.execute_reply": "2025-03-25T12:06:00.758970Z"
    },
    "papermill": {
     "duration": 0.013508,
     "end_time": "2025-03-25T12:06:00.760620",
     "exception": false,
     "start_time": "2025-03-25T12:06:00.747112",
     "status": "completed"
    },
    "tags": []
   },
   "outputs": [],
   "source": [
    "# Text preprocessing\n",
    "def preprocess_text(text):\n",
    "    text = text.lower()\n",
    "    text = re.sub(r'\\n', ' ', text)\n",
    "    text = re.sub(r'[^\\w\\s]', '', text)\n",
    "    text = re.sub(r'\\s+', ' ', text).strip()\n",
    "    return text"
   ]
  },
  {
   "cell_type": "code",
   "execution_count": 9,
   "id": "d4a65e2e",
   "metadata": {
    "ExecuteTime": {
     "end_time": "2025-03-25T11:32:06.131160Z",
     "start_time": "2025-03-25T11:32:05.969417Z"
    },
    "execution": {
     "iopub.execute_input": "2025-03-25T12:06:00.778284Z",
     "iopub.status.busy": "2025-03-25T12:06:00.778069Z",
     "iopub.status.idle": "2025-03-25T12:06:00.972293Z",
     "shell.execute_reply": "2025-03-25T12:06:00.971648Z"
    },
    "papermill": {
     "duration": 0.204802,
     "end_time": "2025-03-25T12:06:00.973773",
     "exception": false,
     "start_time": "2025-03-25T12:06:00.768971",
     "status": "completed"
    },
    "tags": []
   },
   "outputs": [],
   "source": [
    "# Apply preprocessing\n",
    "train_df['processed_message'] = train_df['message'].apply(preprocess_text)\n",
    "val_df['processed_message'] = val_df['message'].apply(preprocess_text)\n",
    "test_df['processed_message'] = test_df['message'].apply(preprocess_text)"
   ]
  },
  {
   "cell_type": "code",
   "execution_count": 10,
   "id": "3ba83880",
   "metadata": {
    "ExecuteTime": {
     "end_time": "2025-03-25T11:32:06.153494Z",
     "start_time": "2025-03-25T11:32:06.146241Z"
    },
    "execution": {
     "iopub.execute_input": "2025-03-25T12:06:00.991643Z",
     "iopub.status.busy": "2025-03-25T12:06:00.991424Z",
     "iopub.status.idle": "2025-03-25T12:06:00.994868Z",
     "shell.execute_reply": "2025-03-25T12:06:00.994284Z"
    },
    "papermill": {
     "duration": 0.013577,
     "end_time": "2025-03-25T12:06:00.996034",
     "exception": false,
     "start_time": "2025-03-25T12:06:00.982457",
     "status": "completed"
    },
    "tags": []
   },
   "outputs": [],
   "source": [
    "# Extract season as one-hot encoded feature\n",
    "def encode_season(season):\n",
    "    seasons = ['Spring', 'Summer', 'Fall', 'Winter']\n",
    "    encoding = [0] * len(seasons)\n",
    "    try:\n",
    "        idx = seasons.index(season)\n",
    "        encoding[idx] = 1\n",
    "    except ValueError:\n",
    "        pass\n",
    "    return encoding"
   ]
  },
  {
   "cell_type": "code",
   "execution_count": 11,
   "id": "5f9d55ba",
   "metadata": {
    "ExecuteTime": {
     "end_time": "2025-03-25T11:32:06.188631Z",
     "start_time": "2025-03-25T11:32:06.173204Z"
    },
    "execution": {
     "iopub.execute_input": "2025-03-25T12:06:01.013614Z",
     "iopub.status.busy": "2025-03-25T12:06:01.013375Z",
     "iopub.status.idle": "2025-03-25T12:06:01.027852Z",
     "shell.execute_reply": "2025-03-25T12:06:01.027080Z"
    },
    "papermill": {
     "duration": 0.024646,
     "end_time": "2025-03-25T12:06:01.029223",
     "exception": false,
     "start_time": "2025-03-25T12:06:01.004577",
     "status": "completed"
    },
    "tags": []
   },
   "outputs": [],
   "source": [
    "# Apply season encoding\n",
    "train_df['season_encoded'] = train_df['season'].apply(encode_season)\n",
    "val_df['season_encoded'] = val_df['season'].apply(encode_season)\n",
    "test_df['season_encoded'] = test_df['season'].apply(encode_season)"
   ]
  },
  {
   "cell_type": "code",
   "execution_count": 12,
   "id": "3bd242bb",
   "metadata": {
    "ExecuteTime": {
     "end_time": "2025-03-25T11:32:06.213677Z",
     "start_time": "2025-03-25T11:32:06.209677Z"
    },
    "execution": {
     "iopub.execute_input": "2025-03-25T12:06:01.046941Z",
     "iopub.status.busy": "2025-03-25T12:06:01.046685Z",
     "iopub.status.idle": "2025-03-25T12:06:01.050066Z",
     "shell.execute_reply": "2025-03-25T12:06:01.049276Z"
    },
    "papermill": {
     "duration": 0.013766,
     "end_time": "2025-03-25T12:06:01.051306",
     "exception": false,
     "start_time": "2025-03-25T12:06:01.037540",
     "status": "completed"
    },
    "tags": []
   },
   "outputs": [],
   "source": [
    "# Normalize year\n",
    "def normalize_year(year):\n",
    "    return (year - 1900) / 10"
   ]
  },
  {
   "cell_type": "code",
   "execution_count": 13,
   "id": "9f42e4c1",
   "metadata": {
    "ExecuteTime": {
     "end_time": "2025-03-25T11:32:06.240682Z",
     "start_time": "2025-03-25T11:32:06.230054Z"
    },
    "execution": {
     "iopub.execute_input": "2025-03-25T12:06:01.068786Z",
     "iopub.status.busy": "2025-03-25T12:06:01.068558Z",
     "iopub.status.idle": "2025-03-25T12:06:01.078233Z",
     "shell.execute_reply": "2025-03-25T12:06:01.077434Z"
    },
    "papermill": {
     "duration": 0.019825,
     "end_time": "2025-03-25T12:06:01.079505",
     "exception": false,
     "start_time": "2025-03-25T12:06:01.059680",
     "status": "completed"
    },
    "tags": []
   },
   "outputs": [],
   "source": [
    "# Normalize year\n",
    "train_df['year_normalized'] = train_df['year'].apply(normalize_year)\n",
    "val_df['year_normalized'] = val_df['year'].apply(normalize_year)\n",
    "test_df['year_normalized'] = test_df['year'].apply(normalize_year)"
   ]
  },
  {
   "cell_type": "code",
   "execution_count": 14,
   "id": "2dbf15bf",
   "metadata": {
    "ExecuteTime": {
     "end_time": "2025-03-25T11:32:06.261696Z",
     "start_time": "2025-03-25T11:32:06.257715Z"
    },
    "execution": {
     "iopub.execute_input": "2025-03-25T12:06:01.098670Z",
     "iopub.status.busy": "2025-03-25T12:06:01.098474Z",
     "iopub.status.idle": "2025-03-25T12:06:01.101532Z",
     "shell.execute_reply": "2025-03-25T12:06:01.100930Z"
    },
    "papermill": {
     "duration": 0.013155,
     "end_time": "2025-03-25T12:06:01.102578",
     "exception": false,
     "start_time": "2025-03-25T12:06:01.089423",
     "status": "completed"
    },
    "tags": []
   },
   "outputs": [],
   "source": [
    "# Normalize message length\n",
    "def normalize_length(length):\n",
    "    return min(length / 100, 5)"
   ]
  },
  {
   "cell_type": "code",
   "execution_count": 15,
   "id": "f7ff39f8",
   "metadata": {
    "ExecuteTime": {
     "end_time": "2025-03-25T11:32:06.293058Z",
     "start_time": "2025-03-25T11:32:06.277560Z"
    },
    "execution": {
     "iopub.execute_input": "2025-03-25T12:06:01.120092Z",
     "iopub.status.busy": "2025-03-25T12:06:01.119896Z",
     "iopub.status.idle": "2025-03-25T12:06:01.130080Z",
     "shell.execute_reply": "2025-03-25T12:06:01.129460Z"
    },
    "papermill": {
     "duration": 0.020175,
     "end_time": "2025-03-25T12:06:01.131270",
     "exception": false,
     "start_time": "2025-03-25T12:06:01.111095",
     "status": "completed"
    },
    "tags": []
   },
   "outputs": [],
   "source": [
    "# Normalize message length\n",
    "train_df['length_normalized'] = train_df['message_length'].apply(normalize_length)\n",
    "val_df['length_normalized'] = val_df['message_length'].apply(normalize_length)\n",
    "test_df['length_normalized'] = test_df['message_length'].apply(normalize_length)"
   ]
  },
  {
   "cell_type": "code",
   "execution_count": 16,
   "id": "bf663ec1",
   "metadata": {
    "ExecuteTime": {
     "end_time": "2025-03-25T11:32:06.439403Z",
     "start_time": "2025-03-25T11:32:06.308519Z"
    },
    "execution": {
     "iopub.execute_input": "2025-03-25T12:06:01.148727Z",
     "iopub.status.busy": "2025-03-25T12:06:01.148521Z",
     "iopub.status.idle": "2025-03-25T12:06:01.308163Z",
     "shell.execute_reply": "2025-03-25T12:06:01.307493Z"
    },
    "papermill": {
     "duration": 0.170098,
     "end_time": "2025-03-25T12:06:01.309752",
     "exception": false,
     "start_time": "2025-03-25T12:06:01.139654",
     "status": "completed"
    },
    "tags": []
   },
   "outputs": [],
   "source": [
    "# Save processed data\n",
    "train_df.to_csv('train_processed.csv', index=False)\n",
    "val_df.to_csv('val_processed.csv', index=False)\n",
    "test_df.to_csv('test_processed.csv', index=False)"
   ]
  },
  {
   "cell_type": "markdown",
   "id": "f952e8b3",
   "metadata": {
    "papermill": {
     "duration": 0.008244,
     "end_time": "2025-03-25T12:06:01.326989",
     "exception": false,
     "start_time": "2025-03-25T12:06:01.318745",
     "status": "completed"
    },
    "tags": []
   },
   "source": [
    "## Dataset"
   ]
  },
  {
   "cell_type": "code",
   "execution_count": 17,
   "id": "746113c8",
   "metadata": {
    "ExecuteTime": {
     "end_time": "2025-03-25T11:32:06.462098Z",
     "start_time": "2025-03-25T11:32:06.455290Z"
    },
    "execution": {
     "iopub.execute_input": "2025-03-25T12:06:01.345146Z",
     "iopub.status.busy": "2025-03-25T12:06:01.344870Z",
     "iopub.status.idle": "2025-03-25T12:06:01.348725Z",
     "shell.execute_reply": "2025-03-25T12:06:01.348137Z"
    },
    "papermill": {
     "duration": 0.014144,
     "end_time": "2025-03-25T12:06:01.349843",
     "exception": false,
     "start_time": "2025-03-25T12:06:01.335699",
     "status": "completed"
    },
    "tags": []
   },
   "outputs": [],
   "source": [
    "# Build vocabulary\n",
    "def build_vocab(texts, max_size):\n",
    "    word_counts = Counter()\n",
    "    for text in texts:\n",
    "        words = text.split()\n",
    "        word_counts.update(words)\n",
    "\n",
    "    vocab = {'<PAD>': 0, '<UNK>': 1}\n",
    "    for word, _ in word_counts.most_common(max_size - len(vocab)):\n",
    "        if word not in vocab:\n",
    "            vocab[word] = len(vocab)\n",
    "\n",
    "    return vocab"
   ]
  },
  {
   "cell_type": "code",
   "execution_count": 18,
   "id": "93dda2d3",
   "metadata": {
    "ExecuteTime": {
     "end_time": "2025-03-25T11:32:06.536670Z",
     "start_time": "2025-03-25T11:32:06.482907Z"
    },
    "execution": {
     "iopub.execute_input": "2025-03-25T12:06:01.367423Z",
     "iopub.status.busy": "2025-03-25T12:06:01.367201Z",
     "iopub.status.idle": "2025-03-25T12:06:01.420328Z",
     "shell.execute_reply": "2025-03-25T12:06:01.419502Z"
    },
    "papermill": {
     "duration": 0.063412,
     "end_time": "2025-03-25T12:06:01.421653",
     "exception": false,
     "start_time": "2025-03-25T12:06:01.358241",
     "status": "completed"
    },
    "tags": []
   },
   "outputs": [
    {
     "name": "stdout",
     "output_type": "stream",
     "text": [
      "Building vocabulary...\n",
      "Vocabulary size: 8633\n"
     ]
    }
   ],
   "source": [
    "print(\"Building vocabulary...\")\n",
    "vocab = build_vocab(train_df['processed_message'], MAX_VOCAB_SIZE)\n",
    "print(f\"Vocabulary size: {len(vocab)}\")"
   ]
  },
  {
   "cell_type": "code",
   "execution_count": 19,
   "id": "bfa26975",
   "metadata": {
    "ExecuteTime": {
     "end_time": "2025-03-25T11:32:06.560786Z",
     "start_time": "2025-03-25T11:32:06.555287Z"
    },
    "execution": {
     "iopub.execute_input": "2025-03-25T12:06:01.439769Z",
     "iopub.status.busy": "2025-03-25T12:06:01.439536Z",
     "iopub.status.idle": "2025-03-25T12:06:01.443449Z",
     "shell.execute_reply": "2025-03-25T12:06:01.442650Z"
    },
    "papermill": {
     "duration": 0.014022,
     "end_time": "2025-03-25T12:06:01.444615",
     "exception": false,
     "start_time": "2025-03-25T12:06:01.430593",
     "status": "completed"
    },
    "tags": []
   },
   "outputs": [],
   "source": [
    "def tokenize(text, vocab, max_length):\n",
    "    words = text.split()\n",
    "    tokens = [vocab.get(word, vocab['<UNK>']) for word in words[:max_length]]\n",
    "\n",
    "    if len(tokens) < max_length:\n",
    "        tokens = tokens + [vocab['<PAD>']] * (max_length - len(tokens))\n",
    "\n",
    "    return tokens"
   ]
  },
  {
   "cell_type": "code",
   "execution_count": 20,
   "id": "5bb11f9f",
   "metadata": {
    "ExecuteTime": {
     "end_time": "2025-03-25T11:32:06.588330Z",
     "start_time": "2025-03-25T11:32:06.579830Z"
    },
    "execution": {
     "iopub.execute_input": "2025-03-25T12:06:01.462334Z",
     "iopub.status.busy": "2025-03-25T12:06:01.462133Z",
     "iopub.status.idle": "2025-03-25T12:06:01.468074Z",
     "shell.execute_reply": "2025-03-25T12:06:01.467433Z"
    },
    "papermill": {
     "duration": 0.016135,
     "end_time": "2025-03-25T12:06:01.469156",
     "exception": false,
     "start_time": "2025-03-25T12:06:01.453021",
     "status": "completed"
    },
    "tags": []
   },
   "outputs": [],
   "source": [
    "# Dataset class\n",
    "class DiplomacyDataset(Dataset):\n",
    "    def __init__(self, dataframe, vocab, max_length):\n",
    "        self.messages = [tokenize(text, vocab, max_length) for text in dataframe['processed_message']]\n",
    "        self.score_deltas = dataframe['score_delta'].values\n",
    "        self.rel_msg_indices = dataframe['rel_msg_idx'].values / 10.0  # Normalize\n",
    "        self.abs_msg_indices = dataframe['abs_msg_idx'].values / 1000.0  # Normalize\n",
    "        self.years = dataframe['year_normalized'].values\n",
    "        self.seasons = np.stack(dataframe['season_encoded'].values)\n",
    "        self.message_lengths = dataframe['length_normalized'].values\n",
    "        self.labels = dataframe['is_deceptive'].values\n",
    "\n",
    "    def __len__(self):\n",
    "        return len(self.labels)\n",
    "\n",
    "    def __getitem__(self, idx):\n",
    "        return {\n",
    "            'message': torch.tensor(self.messages[idx], dtype=torch.long),\n",
    "            'score_delta': torch.tensor(self.score_deltas[idx], dtype=torch.float),\n",
    "            'rel_msg_idx': torch.tensor(self.rel_msg_indices[idx], dtype=torch.float),\n",
    "            'abs_msg_idx': torch.tensor(self.abs_msg_indices[idx], dtype=torch.float),\n",
    "            'year': torch.tensor(self.years[idx], dtype=torch.float),\n",
    "            'season': torch.tensor(self.seasons[idx], dtype=torch.float),\n",
    "            'msg_length': torch.tensor(self.message_lengths[idx], dtype=torch.float),\n",
    "            'label': torch.tensor(self.labels[idx], dtype=torch.long)\n",
    "        }"
   ]
  },
  {
   "cell_type": "code",
   "execution_count": 21,
   "id": "febb9e90",
   "metadata": {
    "ExecuteTime": {
     "end_time": "2025-03-25T11:32:06.721411Z",
     "start_time": "2025-03-25T11:32:06.604883Z"
    },
    "execution": {
     "iopub.execute_input": "2025-03-25T12:06:01.486660Z",
     "iopub.status.busy": "2025-03-25T12:06:01.486450Z",
     "iopub.status.idle": "2025-03-25T12:06:01.622615Z",
     "shell.execute_reply": "2025-03-25T12:06:01.621954Z"
    },
    "papermill": {
     "duration": 0.146481,
     "end_time": "2025-03-25T12:06:01.624068",
     "exception": false,
     "start_time": "2025-03-25T12:06:01.477587",
     "status": "completed"
    },
    "tags": []
   },
   "outputs": [
    {
     "name": "stdout",
     "output_type": "stream",
     "text": [
      "Creating datasets...\n"
     ]
    }
   ],
   "source": [
    "# Create datasets\n",
    "print(\"Creating datasets...\")\n",
    "train_dataset = DiplomacyDataset(train_df, vocab, MAX_SEQ_LENGTH)\n",
    "val_dataset = DiplomacyDataset(val_df, vocab, MAX_SEQ_LENGTH)\n",
    "test_dataset = DiplomacyDataset(test_df, vocab, MAX_SEQ_LENGTH)"
   ]
  },
  {
   "cell_type": "code",
   "execution_count": 22,
   "id": "29126897",
   "metadata": {
    "ExecuteTime": {
     "end_time": "2025-03-25T11:32:06.746775Z",
     "start_time": "2025-03-25T11:32:06.738198Z"
    },
    "execution": {
     "iopub.execute_input": "2025-03-25T12:06:01.642418Z",
     "iopub.status.busy": "2025-03-25T12:06:01.642183Z",
     "iopub.status.idle": "2025-03-25T12:06:01.662740Z",
     "shell.execute_reply": "2025-03-25T12:06:01.662165Z"
    },
    "papermill": {
     "duration": 0.031092,
     "end_time": "2025-03-25T12:06:01.664022",
     "exception": false,
     "start_time": "2025-03-25T12:06:01.632930",
     "status": "completed"
    },
    "tags": []
   },
   "outputs": [],
   "source": [
    "# Calculate class weights for weighted sampling\n",
    "class_counts = np.bincount(train_df['is_deceptive'])\n",
    "class_weights = 1.0 / class_counts\n",
    "sample_weights = [class_weights[label] for label in train_df['is_deceptive']]\n",
    "sampler = WeightedRandomSampler(weights=sample_weights, num_samples=len(train_df), replacement=True)"
   ]
  },
  {
   "cell_type": "code",
   "execution_count": 23,
   "id": "6c025d29",
   "metadata": {
    "ExecuteTime": {
     "end_time": "2025-03-25T11:32:06.771819Z",
     "start_time": "2025-03-25T11:32:06.765416Z"
    },
    "execution": {
     "iopub.execute_input": "2025-03-25T12:06:01.682442Z",
     "iopub.status.busy": "2025-03-25T12:06:01.682216Z",
     "iopub.status.idle": "2025-03-25T12:06:01.685888Z",
     "shell.execute_reply": "2025-03-25T12:06:01.685240Z"
    },
    "papermill": {
     "duration": 0.014418,
     "end_time": "2025-03-25T12:06:01.687162",
     "exception": false,
     "start_time": "2025-03-25T12:06:01.672744",
     "status": "completed"
    },
    "tags": []
   },
   "outputs": [],
   "source": [
    "# Create data loaders with weighted sampler for training\n",
    "train_loader = DataLoader(train_dataset, batch_size=BATCH_SIZE, sampler=sampler)\n",
    "val_loader = DataLoader(val_dataset, batch_size=BATCH_SIZE, shuffle=False)\n",
    "test_loader = DataLoader(test_dataset, batch_size=BATCH_SIZE, shuffle=False)"
   ]
  },
  {
   "cell_type": "markdown",
   "id": "aa96a0cf",
   "metadata": {
    "papermill": {
     "duration": 0.008694,
     "end_time": "2025-03-25T12:06:01.704505",
     "exception": false,
     "start_time": "2025-03-25T12:06:01.695811",
     "status": "completed"
    },
    "tags": []
   },
   "source": [
    "## Model"
   ]
  },
  {
   "cell_type": "code",
   "execution_count": 24,
   "id": "f1ed43eb",
   "metadata": {
    "ExecuteTime": {
     "end_time": "2025-03-25T11:32:06.799584Z",
     "start_time": "2025-03-25T11:32:06.790639Z"
    },
    "execution": {
     "iopub.execute_input": "2025-03-25T12:06:01.723701Z",
     "iopub.status.busy": "2025-03-25T12:06:01.723488Z",
     "iopub.status.idle": "2025-03-25T12:06:01.728234Z",
     "shell.execute_reply": "2025-03-25T12:06:01.727623Z"
    },
    "papermill": {
     "duration": 0.016311,
     "end_time": "2025-03-25T12:06:01.729386",
     "exception": false,
     "start_time": "2025-03-25T12:06:01.713075",
     "status": "completed"
    },
    "tags": []
   },
   "outputs": [],
   "source": [
    "# Focal Loss implementation\n",
    "class FocalLoss(nn.Module):\n",
    "    def __init__(self, gamma=2.0, alpha=None, size_average=True):\n",
    "        super(FocalLoss, self).__init__()\n",
    "        self.gamma = gamma\n",
    "        self.alpha = alpha \n",
    "        self.size_average = size_average\n",
    "        if alpha is not None:\n",
    "            self.criterion = nn.CrossEntropyLoss(weight=alpha, reduction='none')\n",
    "        else:\n",
    "            self.criterion = nn.CrossEntropyLoss(reduction='none')\n",
    "\n",
    "    def forward(self, inputs, targets):\n",
    "        ce_loss = self.criterion(inputs, targets)\n",
    "        pt = torch.exp(-ce_loss)\n",
    "        focal_loss = (1 - pt) ** self.gamma * ce_loss\n",
    "        if self.size_average:\n",
    "            return focal_loss.mean()\n",
    "        else:\n",
    "            return focal_loss.sum()"
   ]
  },
  {
   "cell_type": "code",
   "execution_count": 25,
   "id": "80087172",
   "metadata": {
    "ExecuteTime": {
     "end_time": "2025-03-25T11:32:06.828125Z",
     "start_time": "2025-03-25T11:32:06.819176Z"
    },
    "execution": {
     "iopub.execute_input": "2025-03-25T12:06:01.747025Z",
     "iopub.status.busy": "2025-03-25T12:06:01.746788Z",
     "iopub.status.idle": "2025-03-25T12:06:01.753560Z",
     "shell.execute_reply": "2025-03-25T12:06:01.752952Z"
    },
    "papermill": {
     "duration": 0.016975,
     "end_time": "2025-03-25T12:06:01.754818",
     "exception": false,
     "start_time": "2025-03-25T12:06:01.737843",
     "status": "completed"
    },
    "tags": []
   },
   "outputs": [],
   "source": [
    "# LSTM Model with attention\n",
    "class DeceptionLSTM(nn.Module):\n",
    "    def __init__(self, vocab_size, embedding_dim, hidden_dim, dropout_rate, num_layers=2):\n",
    "        super(DeceptionLSTM, self).__init__()\n",
    "\n",
    "        # Embedding layer\n",
    "        self.embedding = nn.Embedding(vocab_size, embedding_dim, padding_idx=0)\n",
    "\n",
    "        # LSTM layer\n",
    "        self.lstm = nn.LSTM(embedding_dim, hidden_dim, num_layers=num_layers,\n",
    "                           batch_first=True, bidirectional=True, dropout=dropout_rate if num_layers > 1 else 0)\n",
    "\n",
    "        # Attention mechanism\n",
    "        self.attention = nn.Linear(hidden_dim * 2, 1)\n",
    "\n",
    "        # Dropout layer\n",
    "        self.dropout = nn.Dropout(dropout_rate)\n",
    "        self.feature_layer = nn.Linear(9, hidden_dim)\n",
    "        self.fc1 = nn.Linear(hidden_dim * 2 + hidden_dim, hidden_dim)\n",
    "        self.fc2 = nn.Linear(hidden_dim, 2)\n",
    "\n",
    "    def attention_net(self, lstm_output):\n",
    "        attn_weights = torch.tanh(self.attention(lstm_output))\n",
    "        soft_attn_weights = torch.softmax(attn_weights, dim=1)\n",
    "        context = torch.bmm(lstm_output.transpose(1, 2), soft_attn_weights)\n",
    "        return context.squeeze(2)\n",
    "\n",
    "    def forward(self, message, score_delta, rel_msg_idx, abs_msg_idx, year, season, msg_length):\n",
    "        embedded = self.embedding(message)\n",
    "        lstm_out, _ = self.lstm(embedded)\n",
    "        attn_out = self.attention_net(lstm_out)\n",
    "        attn_out = self.dropout(attn_out)\n",
    "\n",
    "        features = torch.cat([\n",
    "            score_delta.unsqueeze(1),\n",
    "            rel_msg_idx.unsqueeze(1),\n",
    "            abs_msg_idx.unsqueeze(1),\n",
    "            year.unsqueeze(1),\n",
    "            season,  \n",
    "            msg_length.unsqueeze(1)\n",
    "        ], dim=1)\n",
    "\n",
    "        feature_out = torch.relu(self.feature_layer(features))\n",
    "        combined = torch.cat([attn_out, feature_out], dim=1)\n",
    "        hidden = torch.relu(self.fc1(combined))\n",
    "        hidden = self.dropout(hidden)\n",
    "        output = self.fc2(hidden)\n",
    "\n",
    "        return output"
   ]
  },
  {
   "cell_type": "code",
   "execution_count": 26,
   "id": "b0eaec2e",
   "metadata": {
    "ExecuteTime": {
     "end_time": "2025-03-25T11:32:06.859657Z",
     "start_time": "2025-03-25T11:32:06.846712Z"
    },
    "execution": {
     "iopub.execute_input": "2025-03-25T12:06:01.772917Z",
     "iopub.status.busy": "2025-03-25T12:06:01.772690Z",
     "iopub.status.idle": "2025-03-25T12:06:01.813950Z",
     "shell.execute_reply": "2025-03-25T12:06:01.813285Z"
    },
    "papermill": {
     "duration": 0.051621,
     "end_time": "2025-03-25T12:06:01.815194",
     "exception": false,
     "start_time": "2025-03-25T12:06:01.763573",
     "status": "completed"
    },
    "tags": []
   },
   "outputs": [],
   "source": [
    "# Initialize model\n",
    "model = DeceptionLSTM(\n",
    "    vocab_size=len(vocab),\n",
    "    embedding_dim=EMBEDDING_DIM,\n",
    "    hidden_dim=HIDDEN_DIM,\n",
    "    dropout_rate=DROPOUT_RATE,\n",
    "    num_layers=2\n",
    ")"
   ]
  },
  {
   "cell_type": "code",
   "execution_count": 27,
   "id": "4e282fd7",
   "metadata": {
    "ExecuteTime": {
     "end_time": "2025-03-25T11:32:06.885721Z",
     "start_time": "2025-03-25T11:32:06.879419Z"
    },
    "execution": {
     "iopub.execute_input": "2025-03-25T12:06:01.833473Z",
     "iopub.status.busy": "2025-03-25T12:06:01.833245Z",
     "iopub.status.idle": "2025-03-25T12:06:01.855640Z",
     "shell.execute_reply": "2025-03-25T12:06:01.855056Z"
    },
    "papermill": {
     "duration": 0.032646,
     "end_time": "2025-03-25T12:06:01.856761",
     "exception": false,
     "start_time": "2025-03-25T12:06:01.824115",
     "status": "completed"
    },
    "tags": []
   },
   "outputs": [],
   "source": [
    "# Calculate class weights for loss function\n",
    "class_counts = np.bincount(train_df['is_deceptive'])\n",
    "class_weights = torch.FloatTensor([1.0 / class_counts[0], 1.0 / class_counts[1]])\n",
    "class_weights = class_weights / class_weights.sum()  \n",
    "class_weights = class_weights * 2  "
   ]
  },
  {
   "cell_type": "code",
   "execution_count": 28,
   "id": "60605d4a",
   "metadata": {
    "ExecuteTime": {
     "end_time": "2025-03-25T11:32:06.920562Z",
     "start_time": "2025-03-25T11:32:06.916662Z"
    },
    "execution": {
     "iopub.execute_input": "2025-03-25T12:06:01.874691Z",
     "iopub.status.busy": "2025-03-25T12:06:01.874472Z",
     "iopub.status.idle": "2025-03-25T12:06:01.877464Z",
     "shell.execute_reply": "2025-03-25T12:06:01.876835Z"
    },
    "papermill": {
     "duration": 0.013308,
     "end_time": "2025-03-25T12:06:01.878646",
     "exception": false,
     "start_time": "2025-03-25T12:06:01.865338",
     "status": "completed"
    },
    "tags": []
   },
   "outputs": [],
   "source": [
    "# Define loss function\n",
    "criterion = FocalLoss(gamma=FOCAL_LOSS_GAMMA, alpha=class_weights)"
   ]
  },
  {
   "cell_type": "code",
   "execution_count": 29,
   "id": "43a5ee3b",
   "metadata": {
    "ExecuteTime": {
     "end_time": "2025-03-25T11:32:08.987764Z",
     "start_time": "2025-03-25T11:32:06.938978Z"
    },
    "execution": {
     "iopub.execute_input": "2025-03-25T12:06:01.896316Z",
     "iopub.status.busy": "2025-03-25T12:06:01.896108Z",
     "iopub.status.idle": "2025-03-25T12:06:05.404641Z",
     "shell.execute_reply": "2025-03-25T12:06:05.403959Z"
    },
    "papermill": {
     "duration": 3.51894,
     "end_time": "2025-03-25T12:06:05.406155",
     "exception": false,
     "start_time": "2025-03-25T12:06:01.887215",
     "status": "completed"
    },
    "tags": []
   },
   "outputs": [],
   "source": [
    "# Added L2 regularization\n",
    "optimizer = optim.Adam(model.parameters(), lr=LEARNING_RATE, weight_decay=1e-5)"
   ]
  },
  {
   "cell_type": "code",
   "execution_count": 30,
   "id": "df9271dd",
   "metadata": {
    "ExecuteTime": {
     "end_time": "2025-03-25T11:32:09.015399Z",
     "start_time": "2025-03-25T11:32:09.004889Z"
    },
    "execution": {
     "iopub.execute_input": "2025-03-25T12:06:05.425586Z",
     "iopub.status.busy": "2025-03-25T12:06:05.425179Z",
     "iopub.status.idle": "2025-03-25T12:06:05.430909Z",
     "shell.execute_reply": "2025-03-25T12:06:05.430113Z"
    },
    "papermill": {
     "duration": 0.016883,
     "end_time": "2025-03-25T12:06:05.432271",
     "exception": false,
     "start_time": "2025-03-25T12:06:05.415388",
     "status": "completed"
    },
    "tags": []
   },
   "outputs": [
    {
     "name": "stderr",
     "output_type": "stream",
     "text": [
      "/usr/local/lib/python3.10/dist-packages/torch/optim/lr_scheduler.py:62: UserWarning: The verbose parameter is deprecated. Please use get_last_lr() to access the learning rate.\n",
      "  warnings.warn(\n"
     ]
    }
   ],
   "source": [
    "# Learning rate scheduler\n",
    "scheduler = optim.lr_scheduler.ReduceLROnPlateau(optimizer, mode='max', factor=0.5, patience=2, verbose=True)"
   ]
  },
  {
   "cell_type": "markdown",
   "id": "a2c6e4af",
   "metadata": {
    "papermill": {
     "duration": 0.008247,
     "end_time": "2025-03-25T12:06:05.449286",
     "exception": false,
     "start_time": "2025-03-25T12:06:05.441039",
     "status": "completed"
    },
    "tags": []
   },
   "source": [
    "## Train and Evaluate"
   ]
  },
  {
   "cell_type": "code",
   "execution_count": 31,
   "id": "9e3a05c2",
   "metadata": {
    "ExecuteTime": {
     "end_time": "2025-03-25T11:32:09.041618Z",
     "start_time": "2025-03-25T11:32:09.035885Z"
    },
    "execution": {
     "iopub.execute_input": "2025-03-25T12:06:05.505463Z",
     "iopub.status.busy": "2025-03-25T12:06:05.505152Z",
     "iopub.status.idle": "2025-03-25T12:06:05.511441Z",
     "shell.execute_reply": "2025-03-25T12:06:05.510785Z"
    },
    "papermill": {
     "duration": 0.054489,
     "end_time": "2025-03-25T12:06:05.512668",
     "exception": false,
     "start_time": "2025-03-25T12:06:05.458179",
     "status": "completed"
    },
    "tags": []
   },
   "outputs": [],
   "source": [
    "# Training function\n",
    "def train_epoch(model, data_loader, optimizer, criterion, device):\n",
    "    model.train()\n",
    "    total_loss = 0\n",
    "    all_preds = []\n",
    "    all_labels = []\n",
    "\n",
    "    for batch in tqdm(data_loader, desc=\"Training\"):\n",
    "        messages = batch['message'].to(device)\n",
    "        score_deltas = batch['score_delta'].to(device)\n",
    "        rel_msg_indices = batch['rel_msg_idx'].to(device)\n",
    "        abs_msg_indices = batch['abs_msg_idx'].to(device)\n",
    "        years = batch['year'].to(device)\n",
    "        seasons = batch['season'].to(device)\n",
    "        msg_lengths = batch['msg_length'].to(device)\n",
    "        labels = batch['label'].to(device)\n",
    "\n",
    "        #Forward pass\n",
    "        optimizer.zero_grad()\n",
    "        outputs = model(messages, score_deltas, rel_msg_indices, abs_msg_indices, years, seasons, msg_lengths)\n",
    "        loss = criterion(outputs, labels)\n",
    "\n",
    "        loss.backward()\n",
    "        torch.nn.utils.clip_grad_norm_(model.parameters(), max_norm=1.0)\n",
    "\n",
    "        optimizer.step()\n",
    "\n",
    "        total_loss += loss.item()\n",
    "        _, preds = torch.max(outputs, 1)\n",
    "        all_preds.extend(preds.cpu().numpy())\n",
    "        all_labels.extend(labels.cpu().numpy())\n",
    "\n",
    "    accuracy = accuracy_score(all_labels, all_preds)\n",
    "    f1 = f1_score(all_labels, all_preds, average='macro')\n",
    "\n",
    "    return total_loss / len(data_loader), accuracy, f1"
   ]
  },
  {
   "cell_type": "code",
   "execution_count": 32,
   "id": "53ed050c",
   "metadata": {
    "ExecuteTime": {
     "end_time": "2025-03-25T11:32:09.068183Z",
     "start_time": "2025-03-25T11:32:09.059870Z"
    },
    "execution": {
     "iopub.execute_input": "2025-03-25T12:06:05.530776Z",
     "iopub.status.busy": "2025-03-25T12:06:05.530562Z",
     "iopub.status.idle": "2025-03-25T12:06:05.536926Z",
     "shell.execute_reply": "2025-03-25T12:06:05.536285Z"
    },
    "papermill": {
     "duration": 0.016491,
     "end_time": "2025-03-25T12:06:05.537994",
     "exception": false,
     "start_time": "2025-03-25T12:06:05.521503",
     "status": "completed"
    },
    "tags": []
   },
   "outputs": [],
   "source": [
    "# Evaluation function\n",
    "def evaluate(model, data_loader, criterion, device):\n",
    "    model.eval()\n",
    "    total_loss = 0\n",
    "    all_preds = []\n",
    "    all_labels = []\n",
    "    all_probs = []  \n",
    "\n",
    "    with torch.no_grad():\n",
    "        for batch in tqdm(data_loader, desc=\"Evaluating\"):\n",
    "            # Get data\n",
    "            messages = batch['message'].to(device)\n",
    "            score_deltas = batch['score_delta'].to(device)\n",
    "            rel_msg_indices = batch['rel_msg_idx'].to(device)\n",
    "            abs_msg_indices = batch['abs_msg_idx'].to(device)\n",
    "            years = batch['year'].to(device)\n",
    "            seasons = batch['season'].to(device)\n",
    "            msg_lengths = batch['msg_length'].to(device)\n",
    "            labels = batch['label'].to(device)\n",
    "\n",
    "            # Forward pass\n",
    "            outputs = model(messages, score_deltas, rel_msg_indices, abs_msg_indices, years, seasons, msg_lengths)\n",
    "            loss = criterion(outputs, labels)\n",
    "\n",
    "            total_loss += loss.item()\n",
    "            probs = torch.softmax(outputs, dim=1)\n",
    "            all_probs.extend(probs[:, 1].cpu().numpy())  \n",
    "\n",
    "            _, preds = torch.max(outputs, 1)\n",
    "            all_preds.extend(preds.cpu().numpy())\n",
    "            all_labels.extend(labels.cpu().numpy())\n",
    "\n",
    "    accuracy = accuracy_score(all_labels, all_preds)\n",
    "\n",
    "\n",
    "    print(\"\\nClassification Report:\")\n",
    "    print(classification_report(all_labels, all_preds))\n",
    "\n",
    "    print(\"\\nConfusion Matrix:\")\n",
    "    cm = confusion_matrix(all_labels, all_preds)\n",
    "    print(cm)\n",
    "\n",
    "    f1 = f1_score(all_labels, all_preds, average='macro')\n",
    "\n",
    "    return total_loss / len(data_loader), accuracy, f1, all_preds, all_probs, all_labels"
   ]
  },
  {
   "cell_type": "code",
   "execution_count": 33,
   "id": "9fd66a1f",
   "metadata": {
    "ExecuteTime": {
     "end_time": "2025-03-25T11:32:09.096695Z",
     "start_time": "2025-03-25T11:32:09.090474Z"
    },
    "execution": {
     "iopub.execute_input": "2025-03-25T12:06:05.555893Z",
     "iopub.status.busy": "2025-03-25T12:06:05.555666Z",
     "iopub.status.idle": "2025-03-25T12:06:05.559275Z",
     "shell.execute_reply": "2025-03-25T12:06:05.558694Z"
    },
    "papermill": {
     "duration": 0.013912,
     "end_time": "2025-03-25T12:06:05.560475",
     "exception": false,
     "start_time": "2025-03-25T12:06:05.546563",
     "status": "completed"
    },
    "tags": []
   },
   "outputs": [],
   "source": [
    "# Find optimal threshold\n",
    "def find_optimal_threshold(y_true, y_probs):\n",
    "    best_f1 = 0\n",
    "    best_threshold = 0.5\n",
    "\n",
    "    for threshold in np.arange(0.1, 0.9, 0.05):\n",
    "        y_pred = (np.array(y_probs) >= threshold).astype(int)\n",
    "        f1 = f1_score(y_true, y_pred, average='macro')\n",
    "\n",
    "        if f1 > best_f1:\n",
    "            best_f1 = f1\n",
    "            best_threshold = threshold\n",
    "\n",
    "    return best_threshold, best_f1"
   ]
  },
  {
   "cell_type": "code",
   "execution_count": 34,
   "id": "ef0743da",
   "metadata": {
    "ExecuteTime": {
     "end_time": "2025-03-25T11:32:09.119895Z",
     "start_time": "2025-03-25T11:32:09.114558Z"
    },
    "execution": {
     "iopub.execute_input": "2025-03-25T12:06:05.578333Z",
     "iopub.status.busy": "2025-03-25T12:06:05.578098Z",
     "iopub.status.idle": "2025-03-25T12:06:05.581854Z",
     "shell.execute_reply": "2025-03-25T12:06:05.581070Z"
    },
    "papermill": {
     "duration": 0.013946,
     "end_time": "2025-03-25T12:06:05.583131",
     "exception": false,
     "start_time": "2025-03-25T12:06:05.569185",
     "status": "completed"
    },
    "tags": []
   },
   "outputs": [],
   "source": [
    "# Plot confusion matrix\n",
    "def plot_confusion_matrix(cm, class_names):\n",
    "    plt.figure(figsize=(8, 6))\n",
    "    sns.heatmap(cm, annot=True, fmt='d', cmap='Blues', xticklabels=class_names, yticklabels=class_names)\n",
    "    plt.xlabel('Predicted')\n",
    "    plt.ylabel('True')\n",
    "    plt.title('Confusion Matrix')\n",
    "    plt.savefig('confusion_matrix.png')"
   ]
  },
  {
   "cell_type": "code",
   "execution_count": 35,
   "id": "2cfd4041",
   "metadata": {
    "ExecuteTime": {
     "end_time": "2025-03-25T11:32:09.151691Z",
     "start_time": "2025-03-25T11:32:09.141729Z"
    },
    "execution": {
     "iopub.execute_input": "2025-03-25T12:06:05.600961Z",
     "iopub.status.busy": "2025-03-25T12:06:05.600744Z",
     "iopub.status.idle": "2025-03-25T12:06:05.608658Z",
     "shell.execute_reply": "2025-03-25T12:06:05.608040Z"
    },
    "papermill": {
     "duration": 0.018128,
     "end_time": "2025-03-25T12:06:05.609768",
     "exception": false,
     "start_time": "2025-03-25T12:06:05.591640",
     "status": "completed"
    },
    "tags": []
   },
   "outputs": [],
   "source": [
    "# Training loop\n",
    "def train_model(model, train_loader, val_loader, optimizer, criterion, scheduler, num_epochs, device):\n",
    "    best_val_f1 = 0.0\n",
    "    history = {'train_loss': [], 'train_acc': [], 'train_f1': [],\n",
    "               'val_loss': [], 'val_acc': [], 'val_f1': []}\n",
    "\n",
    "    for epoch in range(num_epochs):\n",
    "        print(f\"Epoch {epoch+1}/{num_epochs}\")\n",
    "\n",
    "        # Train\n",
    "        train_loss, train_acc, train_f1 = train_epoch(model, train_loader, optimizer, criterion, device)\n",
    "\n",
    "        # Validate\n",
    "        val_loss, val_acc, val_f1, _, val_probs, val_labels = evaluate(model, val_loader, criterion, device)\n",
    "        scheduler.step(val_f1)\n",
    "        history['train_loss'].append(train_loss)\n",
    "        history['train_acc'].append(train_acc)\n",
    "        history['train_f1'].append(train_f1)\n",
    "        history['val_loss'].append(val_loss)\n",
    "        history['val_acc'].append(val_acc)\n",
    "        history['val_f1'].append(val_f1)\n",
    "\n",
    "        print(f\"Train Loss: {train_loss:.4f}, Train Acc: {train_acc:.4f}, Train F1: {train_f1:.4f}\")\n",
    "        print(f\"Val Loss: {val_loss:.4f}, Val Acc: {val_acc:.4f}, Val F1: {val_f1:.4f}\")\n",
    "\n",
    "        #Finding optimal threshold\n",
    "        threshold, _ = find_optimal_threshold(val_labels, val_probs)\n",
    "        print(f\"Optimal threshold: {threshold:.2f}\")\n",
    "\n",
    "        #best model\n",
    "        if val_f1 > best_val_f1:\n",
    "            best_val_f1 = val_f1\n",
    "            torch.save({\n",
    "                'model_state_dict': model.state_dict(),\n",
    "                'optimizer_state_dict': optimizer.state_dict(),\n",
    "                'threshold': threshold,\n",
    "                'epoch': epoch\n",
    "            }, '/kaggle/working//best_model.pt')\n",
    "            print(\"Saved best model!\")\n",
    "\n",
    "    plt.figure(figsize=(12, 4))\n",
    "\n",
    "    plt.subplot(1, 2, 1)\n",
    "    plt.plot(history['train_loss'], label='Train Loss')\n",
    "    plt.plot(history['val_loss'], label='Val Loss')\n",
    "    plt.xlabel('Epoch')\n",
    "    plt.ylabel('Loss')\n",
    "    plt.legend()\n",
    "\n",
    "    plt.subplot(1, 2, 2)\n",
    "    plt.plot(history['train_f1'], label='Train F1')\n",
    "    plt.plot(history['val_f1'], label='Val F1')\n",
    "    plt.xlabel('Epoch')\n",
    "    plt.ylabel('F1 Score')\n",
    "    plt.legend()\n",
    "\n",
    "    plt.tight_layout()\n",
    "    plt.savefig('training_history.png')\n",
    "\n",
    "    return model, threshold"
   ]
  },
  {
   "cell_type": "markdown",
   "id": "64536e25",
   "metadata": {
    "papermill": {
     "duration": 0.008408,
     "end_time": "2025-03-25T12:06:05.626813",
     "exception": false,
     "start_time": "2025-03-25T12:06:05.618405",
     "status": "completed"
    },
    "tags": []
   },
   "source": [
    "## Execution"
   ]
  },
  {
   "cell_type": "code",
   "execution_count": 36,
   "id": "5ed3f4cb",
   "metadata": {
    "ExecuteTime": {
     "end_time": "2025-03-25T11:32:09.203505Z",
     "start_time": "2025-03-25T11:32:09.173400Z"
    },
    "execution": {
     "iopub.execute_input": "2025-03-25T12:06:05.644811Z",
     "iopub.status.busy": "2025-03-25T12:06:05.644611Z",
     "iopub.status.idle": "2025-03-25T12:06:05.697998Z",
     "shell.execute_reply": "2025-03-25T12:06:05.697203Z"
    },
    "papermill": {
     "duration": 0.063716,
     "end_time": "2025-03-25T12:06:05.699231",
     "exception": false,
     "start_time": "2025-03-25T12:06:05.635515",
     "status": "completed"
    },
    "tags": []
   },
   "outputs": [
    {
     "name": "stdout",
     "output_type": "stream",
     "text": [
      "Using device: cuda\n"
     ]
    }
   ],
   "source": [
    "# Set device\n",
    "device = torch.device('cuda' if torch.cuda.is_available() else 'cpu')\n",
    "print(f\"Using device: {device}\")"
   ]
  },
  {
   "cell_type": "code",
   "execution_count": 37,
   "id": "04a1ec07",
   "metadata": {
    "ExecuteTime": {
     "end_time": "2025-03-25T11:32:09.343223Z",
     "start_time": "2025-03-25T11:32:09.223435Z"
    },
    "execution": {
     "iopub.execute_input": "2025-03-25T12:06:05.717504Z",
     "iopub.status.busy": "2025-03-25T12:06:05.717288Z",
     "iopub.status.idle": "2025-03-25T12:06:05.989036Z",
     "shell.execute_reply": "2025-03-25T12:06:05.988339Z"
    },
    "papermill": {
     "duration": 0.282439,
     "end_time": "2025-03-25T12:06:05.990610",
     "exception": false,
     "start_time": "2025-03-25T12:06:05.708171",
     "status": "completed"
    },
    "tags": []
   },
   "outputs": [],
   "source": [
    "# Move model and criterion to device\n",
    "model = model.to(device)\n",
    "criterion = criterion.to(device)"
   ]
  },
  {
   "cell_type": "code",
   "execution_count": 38,
   "id": "15d05d9a",
   "metadata": {
    "ExecuteTime": {
     "end_time": "2025-03-25T11:33:30.846205Z",
     "start_time": "2025-03-25T11:32:09.365392Z"
    },
    "execution": {
     "iopub.execute_input": "2025-03-25T12:06:06.009745Z",
     "iopub.status.busy": "2025-03-25T12:06:06.009515Z",
     "iopub.status.idle": "2025-03-25T12:06:55.574030Z",
     "shell.execute_reply": "2025-03-25T12:06:55.573209Z"
    },
    "papermill": {
     "duration": 49.575445,
     "end_time": "2025-03-25T12:06:55.575590",
     "exception": false,
     "start_time": "2025-03-25T12:06:06.000145",
     "status": "completed"
    },
    "tags": []
   },
   "outputs": [
    {
     "name": "stdout",
     "output_type": "stream",
     "text": [
      "Starting training...\n",
      "Epoch 1/15\n"
     ]
    },
    {
     "name": "stderr",
     "output_type": "stream",
     "text": [
      "Training: 100%|██████████| 411/411 [00:04<00:00, 97.33it/s] \n",
      "Evaluating: 100%|██████████| 45/45 [00:00<00:00, 316.18it/s]\n",
      "/usr/local/lib/python3.10/dist-packages/sklearn/metrics/_classification.py:1344: UndefinedMetricWarning: Precision and F-score are ill-defined and being set to 0.0 in labels with no predicted samples. Use `zero_division` parameter to control this behavior.\n",
      "  _warn_prf(average, modifier, msg_start, len(result))\n",
      "/usr/local/lib/python3.10/dist-packages/sklearn/metrics/_classification.py:1344: UndefinedMetricWarning: Precision and F-score are ill-defined and being set to 0.0 in labels with no predicted samples. Use `zero_division` parameter to control this behavior.\n",
      "  _warn_prf(average, modifier, msg_start, len(result))\n",
      "/usr/local/lib/python3.10/dist-packages/sklearn/metrics/_classification.py:1344: UndefinedMetricWarning: Precision and F-score are ill-defined and being set to 0.0 in labels with no predicted samples. Use `zero_division` parameter to control this behavior.\n",
      "  _warn_prf(average, modifier, msg_start, len(result))\n"
     ]
    },
    {
     "name": "stdout",
     "output_type": "stream",
     "text": [
      "\n",
      "Classification Report:\n",
      "              precision    recall  f1-score   support\n",
      "\n",
      "           0       0.00      0.00      0.00      1360\n",
      "           1       0.04      1.00      0.08        56\n",
      "\n",
      "    accuracy                           0.04      1416\n",
      "   macro avg       0.02      0.50      0.04      1416\n",
      "weighted avg       0.00      0.04      0.00      1416\n",
      "\n",
      "\n",
      "Confusion Matrix:\n",
      "[[   0 1360]\n",
      " [   0   56]]\n",
      "Train Loss: 0.0162, Train Acc: 0.5049, Train F1: 0.3361\n",
      "Val Loss: 0.0092, Val Acc: 0.0395, Val F1: 0.0380\n",
      "Optimal threshold: 0.10\n",
      "Saved best model!\n",
      "Epoch 2/15\n"
     ]
    },
    {
     "name": "stderr",
     "output_type": "stream",
     "text": [
      "Training: 100%|██████████| 411/411 [00:02<00:00, 140.35it/s]\n",
      "Evaluating: 100%|██████████| 45/45 [00:00<00:00, 316.15it/s]\n",
      "/usr/local/lib/python3.10/dist-packages/sklearn/metrics/_classification.py:1344: UndefinedMetricWarning: Precision and F-score are ill-defined and being set to 0.0 in labels with no predicted samples. Use `zero_division` parameter to control this behavior.\n",
      "  _warn_prf(average, modifier, msg_start, len(result))\n",
      "/usr/local/lib/python3.10/dist-packages/sklearn/metrics/_classification.py:1344: UndefinedMetricWarning: Precision and F-score are ill-defined and being set to 0.0 in labels with no predicted samples. Use `zero_division` parameter to control this behavior.\n",
      "  _warn_prf(average, modifier, msg_start, len(result))\n",
      "/usr/local/lib/python3.10/dist-packages/sklearn/metrics/_classification.py:1344: UndefinedMetricWarning: Precision and F-score are ill-defined and being set to 0.0 in labels with no predicted samples. Use `zero_division` parameter to control this behavior.\n",
      "  _warn_prf(average, modifier, msg_start, len(result))\n"
     ]
    },
    {
     "name": "stdout",
     "output_type": "stream",
     "text": [
      "\n",
      "Classification Report:\n",
      "              precision    recall  f1-score   support\n",
      "\n",
      "           0       0.00      0.00      0.00      1360\n",
      "           1       0.04      1.00      0.08        56\n",
      "\n",
      "    accuracy                           0.04      1416\n",
      "   macro avg       0.02      0.50      0.04      1416\n",
      "weighted avg       0.00      0.04      0.00      1416\n",
      "\n",
      "\n",
      "Confusion Matrix:\n",
      "[[   0 1360]\n",
      " [   0   56]]\n",
      "Train Loss: 0.0086, Train Acc: 0.4953, Train F1: 0.3312\n",
      "Val Loss: 0.0074, Val Acc: 0.0395, Val F1: 0.0380\n",
      "Optimal threshold: 0.85\n",
      "Epoch 3/15\n"
     ]
    },
    {
     "name": "stderr",
     "output_type": "stream",
     "text": [
      "Training: 100%|██████████| 411/411 [00:02<00:00, 141.62it/s]\n",
      "Evaluating: 100%|██████████| 45/45 [00:00<00:00, 319.09it/s]\n",
      "/usr/local/lib/python3.10/dist-packages/sklearn/metrics/_classification.py:1344: UndefinedMetricWarning: Precision and F-score are ill-defined and being set to 0.0 in labels with no predicted samples. Use `zero_division` parameter to control this behavior.\n",
      "  _warn_prf(average, modifier, msg_start, len(result))\n",
      "/usr/local/lib/python3.10/dist-packages/sklearn/metrics/_classification.py:1344: UndefinedMetricWarning: Precision and F-score are ill-defined and being set to 0.0 in labels with no predicted samples. Use `zero_division` parameter to control this behavior.\n",
      "  _warn_prf(average, modifier, msg_start, len(result))\n",
      "/usr/local/lib/python3.10/dist-packages/sklearn/metrics/_classification.py:1344: UndefinedMetricWarning: Precision and F-score are ill-defined and being set to 0.0 in labels with no predicted samples. Use `zero_division` parameter to control this behavior.\n",
      "  _warn_prf(average, modifier, msg_start, len(result))\n"
     ]
    },
    {
     "name": "stdout",
     "output_type": "stream",
     "text": [
      "\n",
      "Classification Report:\n",
      "              precision    recall  f1-score   support\n",
      "\n",
      "           0       0.00      0.00      0.00      1360\n",
      "           1       0.04      1.00      0.08        56\n",
      "\n",
      "    accuracy                           0.04      1416\n",
      "   macro avg       0.02      0.50      0.04      1416\n",
      "weighted avg       0.00      0.04      0.00      1416\n",
      "\n",
      "\n",
      "Confusion Matrix:\n",
      "[[   0 1360]\n",
      " [   0   56]]\n",
      "Train Loss: 0.0080, Train Acc: 0.5008, Train F1: 0.3337\n",
      "Val Loss: 0.0091, Val Acc: 0.0395, Val F1: 0.0380\n",
      "Optimal threshold: 0.85\n",
      "Epoch 4/15\n"
     ]
    },
    {
     "name": "stderr",
     "output_type": "stream",
     "text": [
      "Training: 100%|██████████| 411/411 [00:02<00:00, 139.86it/s]\n",
      "Evaluating: 100%|██████████| 45/45 [00:00<00:00, 314.34it/s]\n",
      "/usr/local/lib/python3.10/dist-packages/sklearn/metrics/_classification.py:1344: UndefinedMetricWarning: Precision and F-score are ill-defined and being set to 0.0 in labels with no predicted samples. Use `zero_division` parameter to control this behavior.\n",
      "  _warn_prf(average, modifier, msg_start, len(result))\n",
      "/usr/local/lib/python3.10/dist-packages/sklearn/metrics/_classification.py:1344: UndefinedMetricWarning: Precision and F-score are ill-defined and being set to 0.0 in labels with no predicted samples. Use `zero_division` parameter to control this behavior.\n",
      "  _warn_prf(average, modifier, msg_start, len(result))\n",
      "/usr/local/lib/python3.10/dist-packages/sklearn/metrics/_classification.py:1344: UndefinedMetricWarning: Precision and F-score are ill-defined and being set to 0.0 in labels with no predicted samples. Use `zero_division` parameter to control this behavior.\n",
      "  _warn_prf(average, modifier, msg_start, len(result))\n"
     ]
    },
    {
     "name": "stdout",
     "output_type": "stream",
     "text": [
      "\n",
      "Classification Report:\n",
      "              precision    recall  f1-score   support\n",
      "\n",
      "           0       0.00      0.00      0.00      1360\n",
      "           1       0.04      1.00      0.08        56\n",
      "\n",
      "    accuracy                           0.04      1416\n",
      "   macro avg       0.02      0.50      0.04      1416\n",
      "weighted avg       0.00      0.04      0.00      1416\n",
      "\n",
      "\n",
      "Confusion Matrix:\n",
      "[[   0 1360]\n",
      " [   0   56]]\n",
      "Train Loss: 0.0072, Train Acc: 0.5028, Train F1: 0.3346\n",
      "Val Loss: 0.0064, Val Acc: 0.0395, Val F1: 0.0380\n",
      "Optimal threshold: 0.85\n",
      "Epoch 5/15\n"
     ]
    },
    {
     "name": "stderr",
     "output_type": "stream",
     "text": [
      "Training: 100%|██████████| 411/411 [00:02<00:00, 142.13it/s]\n",
      "Evaluating: 100%|██████████| 45/45 [00:00<00:00, 317.21it/s]\n"
     ]
    },
    {
     "name": "stdout",
     "output_type": "stream",
     "text": [
      "\n",
      "Classification Report:\n",
      "              precision    recall  f1-score   support\n",
      "\n",
      "           0       0.97      0.13      0.22      1360\n",
      "           1       0.04      0.91      0.08        56\n",
      "\n",
      "    accuracy                           0.16      1416\n",
      "   macro avg       0.51      0.52      0.15      1416\n",
      "weighted avg       0.94      0.16      0.22      1416\n",
      "\n",
      "\n",
      "Confusion Matrix:\n",
      "[[ 173 1187]\n",
      " [   5   51]]\n",
      "Train Loss: 0.0059, Train Acc: 0.5033, Train F1: 0.3399\n",
      "Val Loss: 0.0121, Val Acc: 0.1582, Val F1: 0.1519\n",
      "Optimal threshold: 0.85\n",
      "Saved best model!\n",
      "Epoch 6/15\n"
     ]
    },
    {
     "name": "stderr",
     "output_type": "stream",
     "text": [
      "Training: 100%|██████████| 411/411 [00:02<00:00, 141.92it/s]\n",
      "Evaluating: 100%|██████████| 45/45 [00:00<00:00, 315.88it/s]\n"
     ]
    },
    {
     "name": "stdout",
     "output_type": "stream",
     "text": [
      "\n",
      "Classification Report:\n",
      "              precision    recall  f1-score   support\n",
      "\n",
      "           0       0.97      0.14      0.24      1360\n",
      "           1       0.04      0.91      0.08        56\n",
      "\n",
      "    accuracy                           0.17      1416\n",
      "   macro avg       0.51      0.52      0.16      1416\n",
      "weighted avg       0.94      0.17      0.24      1416\n",
      "\n",
      "\n",
      "Confusion Matrix:\n",
      "[[ 188 1172]\n",
      " [   5   51]]\n",
      "Train Loss: 0.0054, Train Acc: 0.5237, Train F1: 0.3890\n",
      "Val Loss: 0.0104, Val Acc: 0.1688, Val F1: 0.1609\n",
      "Optimal threshold: 0.85\n",
      "Saved best model!\n",
      "Epoch 7/15\n"
     ]
    },
    {
     "name": "stderr",
     "output_type": "stream",
     "text": [
      "Training: 100%|██████████| 411/411 [00:02<00:00, 138.33it/s]\n",
      "Evaluating: 100%|██████████| 45/45 [00:00<00:00, 311.74it/s]\n"
     ]
    },
    {
     "name": "stdout",
     "output_type": "stream",
     "text": [
      "\n",
      "Classification Report:\n",
      "              precision    recall  f1-score   support\n",
      "\n",
      "           0       0.98      0.41      0.58      1360\n",
      "           1       0.05      0.77      0.10        56\n",
      "\n",
      "    accuracy                           0.43      1416\n",
      "   macro avg       0.51      0.59      0.34      1416\n",
      "weighted avg       0.94      0.43      0.56      1416\n",
      "\n",
      "\n",
      "Confusion Matrix:\n",
      "[[561 799]\n",
      " [ 13  43]]\n",
      "Train Loss: 0.0045, Train Acc: 0.6446, Train F1: 0.5905\n",
      "Val Loss: 0.0264, Val Acc: 0.4266, Val F1: 0.3380\n",
      "Optimal threshold: 0.85\n",
      "Saved best model!\n",
      "Epoch 8/15\n"
     ]
    },
    {
     "name": "stderr",
     "output_type": "stream",
     "text": [
      "Training: 100%|██████████| 411/411 [00:02<00:00, 142.57it/s]\n",
      "Evaluating: 100%|██████████| 45/45 [00:00<00:00, 297.33it/s]\n"
     ]
    },
    {
     "name": "stdout",
     "output_type": "stream",
     "text": [
      "\n",
      "Classification Report:\n",
      "              precision    recall  f1-score   support\n",
      "\n",
      "           0       0.97      0.50      0.66      1360\n",
      "           1       0.05      0.68      0.10        56\n",
      "\n",
      "    accuracy                           0.51      1416\n",
      "   macro avg       0.51      0.59      0.38      1416\n",
      "weighted avg       0.94      0.51      0.64      1416\n",
      "\n",
      "\n",
      "Confusion Matrix:\n",
      "[[680 680]\n",
      " [ 18  38]]\n",
      "Train Loss: 0.0041, Train Acc: 0.6952, Train F1: 0.6620\n",
      "Val Loss: 0.0399, Val Acc: 0.5071, Val F1: 0.3795\n",
      "Optimal threshold: 0.85\n",
      "Saved best model!\n",
      "Epoch 9/15\n"
     ]
    },
    {
     "name": "stderr",
     "output_type": "stream",
     "text": [
      "Training: 100%|██████████| 411/411 [00:02<00:00, 140.29it/s]\n",
      "Evaluating: 100%|██████████| 45/45 [00:00<00:00, 318.57it/s]\n"
     ]
    },
    {
     "name": "stdout",
     "output_type": "stream",
     "text": [
      "\n",
      "Classification Report:\n",
      "              precision    recall  f1-score   support\n",
      "\n",
      "           0       0.98      0.48      0.64      1360\n",
      "           1       0.05      0.71      0.10        56\n",
      "\n",
      "    accuracy                           0.49      1416\n",
      "   macro avg       0.51      0.60      0.37      1416\n",
      "weighted avg       0.94      0.49      0.62      1416\n",
      "\n",
      "\n",
      "Confusion Matrix:\n",
      "[[651 709]\n",
      " [ 16  40]]\n",
      "Train Loss: 0.0043, Train Acc: 0.6634, Train F1: 0.6205\n",
      "Val Loss: 0.0324, Val Acc: 0.4880, Val F1: 0.3709\n",
      "Optimal threshold: 0.85\n",
      "Epoch 10/15\n"
     ]
    },
    {
     "name": "stderr",
     "output_type": "stream",
     "text": [
      "Training: 100%|██████████| 411/411 [00:02<00:00, 143.36it/s]\n",
      "Evaluating: 100%|██████████| 45/45 [00:00<00:00, 296.32it/s]\n"
     ]
    },
    {
     "name": "stdout",
     "output_type": "stream",
     "text": [
      "\n",
      "Classification Report:\n",
      "              precision    recall  f1-score   support\n",
      "\n",
      "           0       0.98      0.42      0.58      1360\n",
      "           1       0.05      0.77      0.10        56\n",
      "\n",
      "    accuracy                           0.43      1416\n",
      "   macro avg       0.51      0.59      0.34      1416\n",
      "weighted avg       0.94      0.43      0.56      1416\n",
      "\n",
      "\n",
      "Confusion Matrix:\n",
      "[[566 794]\n",
      " [ 13  43]]\n",
      "Train Loss: 0.0038, Train Acc: 0.7138, Train F1: 0.6878\n",
      "Val Loss: 0.0283, Val Acc: 0.4301, Val F1: 0.3401\n",
      "Optimal threshold: 0.85\n",
      "Epoch 11/15\n"
     ]
    },
    {
     "name": "stderr",
     "output_type": "stream",
     "text": [
      "Training: 100%|██████████| 411/411 [00:03<00:00, 126.70it/s]\n",
      "Evaluating: 100%|██████████| 45/45 [00:00<00:00, 318.12it/s]\n"
     ]
    },
    {
     "name": "stdout",
     "output_type": "stream",
     "text": [
      "\n",
      "Classification Report:\n",
      "              precision    recall  f1-score   support\n",
      "\n",
      "           0       0.97      0.49      0.65      1360\n",
      "           1       0.05      0.68      0.10        56\n",
      "\n",
      "    accuracy                           0.49      1416\n",
      "   macro avg       0.51      0.58      0.37      1416\n",
      "weighted avg       0.94      0.49      0.63      1416\n",
      "\n",
      "\n",
      "Confusion Matrix:\n",
      "[[661 699]\n",
      " [ 18  38]]\n",
      "Train Loss: 0.0041, Train Acc: 0.7388, Train F1: 0.7190\n",
      "Val Loss: 0.0369, Val Acc: 0.4936, Val F1: 0.3721\n",
      "Optimal threshold: 0.85\n",
      "Epoch 12/15\n"
     ]
    },
    {
     "name": "stderr",
     "output_type": "stream",
     "text": [
      "Training: 100%|██████████| 411/411 [00:02<00:00, 140.16it/s]\n",
      "Evaluating: 100%|██████████| 45/45 [00:00<00:00, 304.74it/s]\n"
     ]
    },
    {
     "name": "stdout",
     "output_type": "stream",
     "text": [
      "\n",
      "Classification Report:\n",
      "              precision    recall  f1-score   support\n",
      "\n",
      "           0       0.96      0.54      0.69      1360\n",
      "           1       0.04      0.52      0.08        56\n",
      "\n",
      "    accuracy                           0.54      1416\n",
      "   macro avg       0.50      0.53      0.39      1416\n",
      "weighted avg       0.93      0.54      0.67      1416\n",
      "\n",
      "\n",
      "Confusion Matrix:\n",
      "[[733 627]\n",
      " [ 27  29]]\n",
      "Train Loss: 0.0032, Train Acc: 0.7621, Train F1: 0.7469\n",
      "Val Loss: 0.0593, Val Acc: 0.5381, Val F1: 0.3865\n",
      "Optimal threshold: 0.85\n",
      "Saved best model!\n",
      "Epoch 13/15\n"
     ]
    },
    {
     "name": "stderr",
     "output_type": "stream",
     "text": [
      "Training: 100%|██████████| 411/411 [00:02<00:00, 140.46it/s]\n",
      "Evaluating: 100%|██████████| 45/45 [00:00<00:00, 313.32it/s]\n"
     ]
    },
    {
     "name": "stdout",
     "output_type": "stream",
     "text": [
      "\n",
      "Classification Report:\n",
      "              precision    recall  f1-score   support\n",
      "\n",
      "           0       0.97      0.53      0.69      1360\n",
      "           1       0.05      0.66      0.10        56\n",
      "\n",
      "    accuracy                           0.54      1416\n",
      "   macro avg       0.51      0.60      0.39      1416\n",
      "weighted avg       0.94      0.54      0.66      1416\n",
      "\n",
      "\n",
      "Confusion Matrix:\n",
      "[[721 639]\n",
      " [ 19  37]]\n",
      "Train Loss: 0.0029, Train Acc: 0.7808, Train F1: 0.7694\n",
      "Val Loss: 0.0498, Val Acc: 0.5353, Val F1: 0.3939\n",
      "Optimal threshold: 0.85\n",
      "Saved best model!\n",
      "Epoch 14/15\n"
     ]
    },
    {
     "name": "stderr",
     "output_type": "stream",
     "text": [
      "Training: 100%|██████████| 411/411 [00:02<00:00, 139.42it/s]\n",
      "Evaluating: 100%|██████████| 45/45 [00:00<00:00, 312.72it/s]\n"
     ]
    },
    {
     "name": "stdout",
     "output_type": "stream",
     "text": [
      "\n",
      "Classification Report:\n",
      "              precision    recall  f1-score   support\n",
      "\n",
      "           0       0.97      0.51      0.67      1360\n",
      "           1       0.05      0.66      0.10        56\n",
      "\n",
      "    accuracy                           0.52      1416\n",
      "   macro avg       0.51      0.59      0.38      1416\n",
      "weighted avg       0.94      0.52      0.65      1416\n",
      "\n",
      "\n",
      "Confusion Matrix:\n",
      "[[694 666]\n",
      " [ 19  37]]\n",
      "Train Loss: 0.0028, Train Acc: 0.8028, Train F1: 0.7957\n",
      "Val Loss: 0.0540, Val Acc: 0.5162, Val F1: 0.3835\n",
      "Optimal threshold: 0.85\n",
      "Epoch 15/15\n"
     ]
    },
    {
     "name": "stderr",
     "output_type": "stream",
     "text": [
      "Training: 100%|██████████| 411/411 [00:02<00:00, 140.95it/s]\n",
      "Evaluating: 100%|██████████| 45/45 [00:00<00:00, 304.29it/s]\n"
     ]
    },
    {
     "name": "stdout",
     "output_type": "stream",
     "text": [
      "\n",
      "Classification Report:\n",
      "              precision    recall  f1-score   support\n",
      "\n",
      "           0       0.97      0.63      0.76      1360\n",
      "           1       0.06      0.54      0.10        56\n",
      "\n",
      "    accuracy                           0.62      1416\n",
      "   macro avg       0.51      0.58      0.43      1416\n",
      "weighted avg       0.93      0.62      0.74      1416\n",
      "\n",
      "\n",
      "Confusion Matrix:\n",
      "[[854 506]\n",
      " [ 26  30]]\n",
      "Train Loss: 0.0028, Train Acc: 0.7885, Train F1: 0.7796\n",
      "Val Loss: 0.0799, Val Acc: 0.6243, Val F1: 0.4319\n",
      "Optimal threshold: 0.85\n",
      "Saved best model!\n"
     ]
    },
    {
     "data": {
      "image/png": "[encoded data removed]",
      "text/plain": [
       "<Figure size 1200x400 with 2 Axes>"
      ]
     },
     "metadata": {},
     "output_type": "display_data"
    }
   ],
   "source": [
    "# Set random seed for reproducibility\n",
    "torch.manual_seed(42)\n",
    "np.random.seed(42)\n",
    "\n",
    "# Train model\n",
    "print(\"Starting training...\")\n",
    "model, threshold = train_model(\n",
    "    model=model,\n",
    "    train_loader=train_loader,\n",
    "    val_loader=val_loader,\n",
    "    optimizer=optimizer,\n",
    "    criterion=criterion,\n",
    "    scheduler=scheduler,\n",
    "    num_epochs=NUM_EPOCHS,\n",
    "    device=device\n",
    ")"
   ]
  },
  {
   "cell_type": "markdown",
   "id": "693893df",
   "metadata": {
    "papermill": {
     "duration": 0.031762,
     "end_time": "2025-03-25T12:06:55.640960",
     "exception": false,
     "start_time": "2025-03-25T12:06:55.609198",
     "status": "completed"
    },
    "tags": []
   },
   "source": [
    "## Load and evaluate model"
   ]
  },
  {
   "cell_type": "code",
   "execution_count": 39,
   "id": "5ef1c75c",
   "metadata": {
    "ExecuteTime": {
     "end_time": "2025-03-25T11:33:30.974677Z",
     "start_time": "2025-03-25T11:33:30.923952Z"
    },
    "execution": {
     "iopub.execute_input": "2025-03-25T12:06:55.705909Z",
     "iopub.status.busy": "2025-03-25T12:06:55.705600Z",
     "iopub.status.idle": "2025-03-25T12:06:55.732131Z",
     "shell.execute_reply": "2025-03-25T12:06:55.731145Z"
    },
    "papermill": {
     "duration": 0.060743,
     "end_time": "2025-03-25T12:06:55.733446",
     "exception": false,
     "start_time": "2025-03-25T12:06:55.672703",
     "status": "completed"
    },
    "tags": []
   },
   "outputs": [
    {
     "name": "stdout",
     "output_type": "stream",
     "text": [
      "Loaded best model from epoch 15 with threshold 0.85\n"
     ]
    },
    {
     "name": "stderr",
     "output_type": "stream",
     "text": [
      "<ipython-input-39-2b0d69fc4bcf>:2: FutureWarning: You are using `torch.load` with `weights_only=False` (the current default value), which uses the default pickle module implicitly. It is possible to construct malicious pickle data which will execute arbitrary code during unpickling (See https://github.com/pytorch/pytorch/blob/main/SECURITY.md#untrusted-models for more details). In a future release, the default value for `weights_only` will be flipped to `True`. This limits the functions that could be executed during unpickling. Arbitrary objects will no longer be allowed to be loaded via this mode unless they are explicitly allowlisted by the user via `torch.serialization.add_safe_globals`. We recommend you start setting `weights_only=True` for any use case where you don't have full control of the loaded file. Please open an issue on GitHub for any issues related to this experimental feature.\n",
      "  checkpoint = torch.load('/kaggle/working//best_model.pt')\n"
     ]
    }
   ],
   "source": [
    "# Load best model\n",
    "checkpoint = torch.load('/kaggle/working//best_model.pt')\n",
    "model.load_state_dict(checkpoint['model_state_dict'])\n",
    "threshold = checkpoint['threshold']\n",
    "print(f\"Loaded best model from epoch {checkpoint['epoch']+1} with threshold {threshold:.2f}\")"
   ]
  },
  {
   "cell_type": "code",
   "execution_count": 40,
   "id": "90a004cd",
   "metadata": {
    "ExecuteTime": {
     "end_time": "2025-03-25T11:33:31.827766Z",
     "start_time": "2025-03-25T11:33:31.009754Z"
    },
    "execution": {
     "iopub.execute_input": "2025-03-25T12:06:55.798994Z",
     "iopub.status.busy": "2025-03-25T12:06:55.798731Z",
     "iopub.status.idle": "2025-03-25T12:06:56.098329Z",
     "shell.execute_reply": "2025-03-25T12:06:56.097405Z"
    },
    "papermill": {
     "duration": 0.333959,
     "end_time": "2025-03-25T12:06:56.099965",
     "exception": false,
     "start_time": "2025-03-25T12:06:55.766006",
     "status": "completed"
    },
    "tags": []
   },
   "outputs": [
    {
     "name": "stdout",
     "output_type": "stream",
     "text": [
      "Evaluating on test set...\n"
     ]
    },
    {
     "name": "stderr",
     "output_type": "stream",
     "text": [
      "Evaluating: 100%|██████████| 86/86 [00:00<00:00, 315.84it/s]"
     ]
    },
    {
     "name": "stdout",
     "output_type": "stream",
     "text": [
      "\n",
      "Classification Report:\n",
      "              precision    recall  f1-score   support\n",
      "\n",
      "           0       0.92      0.61      0.73      2501\n",
      "           1       0.10      0.45      0.16       240\n",
      "\n",
      "    accuracy                           0.60      2741\n",
      "   macro avg       0.51      0.53      0.45      2741\n",
      "weighted avg       0.85      0.60      0.68      2741\n",
      "\n",
      "\n",
      "Confusion Matrix:\n",
      "[[1522  979]\n",
      " [ 131  109]]\n"
     ]
    },
    {
     "name": "stderr",
     "output_type": "stream",
     "text": [
      "\n"
     ]
    }
   ],
   "source": [
    "# Evaluate on test set\n",
    "print(\"Evaluating on test set...\")\n",
    "test_loss, test_acc, test_f1, test_preds, test_probs, test_labels = evaluate(model, test_loader, criterion, device)"
   ]
  },
  {
   "cell_type": "code",
   "execution_count": 41,
   "id": "2c9da2f0",
   "metadata": {
    "ExecuteTime": {
     "end_time": "2025-03-25T11:33:32.621136Z",
     "start_time": "2025-03-25T11:33:32.608001Z"
    },
    "execution": {
     "iopub.execute_input": "2025-03-25T12:06:56.166467Z",
     "iopub.status.busy": "2025-03-25T12:06:56.166195Z",
     "iopub.status.idle": "2025-03-25T12:06:56.174585Z",
     "shell.execute_reply": "2025-03-25T12:06:56.173968Z"
    },
    "papermill": {
     "duration": 0.04297,
     "end_time": "2025-03-25T12:06:56.175795",
     "exception": false,
     "start_time": "2025-03-25T12:06:56.132825",
     "status": "completed"
    },
    "tags": []
   },
   "outputs": [],
   "source": [
    "# Apply optimal threshold\n",
    "test_preds_threshold = (np.array(test_probs) >= threshold).astype(int)\n",
    "threshold_acc = accuracy_score(test_labels, test_preds_threshold)\n",
    "threshold_f1 = f1_score(test_labels, test_preds_threshold, average='macro')"
   ]
  },
  {
   "cell_type": "code",
   "execution_count": 42,
   "id": "7fea253a",
   "metadata": {
    "ExecuteTime": {
     "end_time": "2025-03-25T11:33:32.635302Z",
     "start_time": "2025-03-25T11:33:32.627184Z"
    },
    "execution": {
     "iopub.execute_input": "2025-03-25T12:06:56.241511Z",
     "iopub.status.busy": "2025-03-25T12:06:56.241283Z",
     "iopub.status.idle": "2025-03-25T12:06:56.245632Z",
     "shell.execute_reply": "2025-03-25T12:06:56.244909Z"
    },
    "papermill": {
     "duration": 0.038568,
     "end_time": "2025-03-25T12:06:56.246939",
     "exception": false,
     "start_time": "2025-03-25T12:06:56.208371",
     "status": "completed"
    },
    "tags": []
   },
   "outputs": [
    {
     "name": "stdout",
     "output_type": "stream",
     "text": [
      "Test Loss: 0.1963, Test Acc: 0.5950, Test F1: 0.4485\n",
      "With optimal threshold: Test Acc: 0.6680, Test F1: 0.4746\n"
     ]
    }
   ],
   "source": [
    "print(f\"Test Loss: {test_loss:.4f}, Test Acc: {test_acc:.4f}, Test F1: {test_f1:.4f}\")\n",
    "print(f\"With optimal threshold: Test Acc: {threshold_acc:.4f}, Test F1: {threshold_f1:.4f}\")"
   ]
  },
  {
   "cell_type": "code",
   "execution_count": 43,
   "id": "b385a17b",
   "metadata": {
    "ExecuteTime": {
     "end_time": "2025-03-25T11:33:32.925252Z",
     "start_time": "2025-03-25T11:33:32.904411Z"
    },
    "execution": {
     "iopub.execute_input": "2025-03-25T12:06:56.313619Z",
     "iopub.status.busy": "2025-03-25T12:06:56.313368Z",
     "iopub.status.idle": "2025-03-25T12:06:56.327101Z",
     "shell.execute_reply": "2025-03-25T12:06:56.326278Z"
    },
    "papermill": {
     "duration": 0.048167,
     "end_time": "2025-03-25T12:06:56.328385",
     "exception": false,
     "start_time": "2025-03-25T12:06:56.280218",
     "status": "completed"
    },
    "tags": []
   },
   "outputs": [
    {
     "name": "stdout",
     "output_type": "stream",
     "text": [
      "\n",
      "Classification Report (with optimal threshold):\n",
      "              precision    recall  f1-score   support\n",
      "\n",
      "           0       0.92      0.70      0.79      2501\n",
      "           1       0.10      0.35      0.16       240\n",
      "\n",
      "    accuracy                           0.67      2741\n",
      "   macro avg       0.51      0.52      0.47      2741\n",
      "weighted avg       0.85      0.67      0.74      2741\n",
      "\n"
     ]
    }
   ],
   "source": [
    "# Print classification report with optimal threshold\n",
    "print(\"\\nClassification Report (with optimal threshold):\")\n",
    "print(classification_report(test_labels, test_preds_threshold))"
   ]
  },
  {
   "cell_type": "code",
   "execution_count": 44,
   "id": "d5eb3718",
   "metadata": {
    "ExecuteTime": {
     "end_time": "2025-03-25T11:33:33.306616Z",
     "start_time": "2025-03-25T11:33:33.298957Z"
    },
    "execution": {
     "iopub.execute_input": "2025-03-25T12:06:56.395177Z",
     "iopub.status.busy": "2025-03-25T12:06:56.394929Z",
     "iopub.status.idle": "2025-03-25T12:06:56.401694Z",
     "shell.execute_reply": "2025-03-25T12:06:56.400843Z"
    },
    "papermill": {
     "duration": 0.041375,
     "end_time": "2025-03-25T12:06:56.402998",
     "exception": false,
     "start_time": "2025-03-25T12:06:56.361623",
     "status": "completed"
    },
    "tags": []
   },
   "outputs": [
    {
     "name": "stdout",
     "output_type": "stream",
     "text": [
      "\n",
      "Confusion Matrix (with optimal threshold):\n",
      "[[1747  754]\n",
      " [ 156   84]]\n"
     ]
    }
   ],
   "source": [
    "# Print confusion matrix with optimal threshold\n",
    "print(\"\\nConfusion Matrix (with optimal threshold):\")\n",
    "cm = confusion_matrix(test_labels, test_preds_threshold)\n",
    "print(cm)"
   ]
  },
  {
   "cell_type": "code",
   "execution_count": 45,
   "id": "a4fdbca4",
   "metadata": {
    "ExecuteTime": {
     "end_time": "2025-03-25T11:33:33.527602Z",
     "start_time": "2025-03-25T11:33:33.311184Z"
    },
    "execution": {
     "iopub.execute_input": "2025-03-25T12:06:56.469245Z",
     "iopub.status.busy": "2025-03-25T12:06:56.469011Z",
     "iopub.status.idle": "2025-03-25T12:06:56.722066Z",
     "shell.execute_reply": "2025-03-25T12:06:56.721321Z"
    },
    "papermill": {
     "duration": 0.28786,
     "end_time": "2025-03-25T12:06:56.723472",
     "exception": false,
     "start_time": "2025-03-25T12:06:56.435612",
     "status": "completed"
    },
    "tags": []
   },
   "outputs": [
    {
     "data": {
      "image/png": "[encoded data removed]",
      "text/plain": [
       "<Figure size 800x600 with 2 Axes>"
      ]
     },
     "metadata": {},
     "output_type": "display_data"
    }
   ],
   "source": [
    "# Plot confusion matrix\n",
    "plot_confusion_matrix(cm, ['Truthful', 'Deceptive'])"
   ]
  },
  {
   "cell_type": "code",
   "execution_count": 46,
   "id": "180c2ab0",
   "metadata": {
    "ExecuteTime": {
     "end_time": "2025-03-25T11:33:33.697724Z",
     "start_time": "2025-03-25T11:33:33.676401Z"
    },
    "execution": {
     "iopub.execute_input": "2025-03-25T12:06:56.793100Z",
     "iopub.status.busy": "2025-03-25T12:06:56.792777Z",
     "iopub.status.idle": "2025-03-25T12:06:56.808495Z",
     "shell.execute_reply": "2025-03-25T12:06:56.807569Z"
    },
    "papermill": {
     "duration": 0.051338,
     "end_time": "2025-03-25T12:06:56.809834",
     "exception": false,
     "start_time": "2025-03-25T12:06:56.758496",
     "status": "completed"
    },
    "tags": []
   },
   "outputs": [
    {
     "name": "stdout",
     "output_type": "stream",
     "text": [
      "Test predictions saved.\n"
     ]
    }
   ],
   "source": [
    "# Save predictions\n",
    "test_predictions = pd.DataFrame({\n",
    "    'predicted_prob': test_probs,\n",
    "    'predicted_label': test_preds_threshold,\n",
    "    'true_label': test_labels\n",
    "})\n",
    "test_predictions.to_csv('test_predictions.csv', index=False)\n",
    "\n",
    "print(\"Test predictions saved.\")\n"
   ]
  },
  {
   "cell_type": "code",
   "execution_count": null,
   "id": "e4ff2a8e",
   "metadata": {
    "ExecuteTime": {
     "end_time": "2025-03-25T11:33:33.839729Z",
     "start_time": "2025-03-25T11:33:33.836766Z"
    },
    "papermill": {
     "duration": 0.034225,
     "end_time": "2025-03-25T12:06:56.877811",
     "exception": false,
     "start_time": "2025-03-25T12:06:56.843586",
     "status": "completed"
    },
    "tags": []
   },
   "outputs": [],
   "source": []
  }
 ],
 "metadata": {
  "kaggle": {
   "accelerator": "gpu",
   "dataSources": [
    {
     "datasetId": 6805434,
     "sourceId": 10942509,
     "sourceType": "datasetVersion"
    },
    {
     "datasetId": 6932930,
     "sourceId": 11118392,
     "sourceType": "datasetVersion"
    }
   ],
   "dockerImageVersionId": 30919,
   "isGpuEnabled": true,
   "isInternetEnabled": true,
   "language": "python",
   "sourceType": "notebook"
  },
  "kernelspec": {
   "display_name": "Python 3",
   "language": "python",
   "name": "python3"
  },
  "language_info": {
   "codemirror_mode": {
    "name": "ipython",
    "version": 3
   },
   "file_extension": ".py",
   "mimetype": "text/x-python",
   "name": "python",
   "nbconvert_exporter": "python",
   "pygments_lexer": "ipython3",
   "version": "3.10.12"
  },
  "papermill": {
   "default_parameters": {},
   "duration": 66.495312,
   "end_time": "2025-03-25T12:06:58.531685",
   "environment_variables": {},
   "exception": null,
   "input_path": "__notebook__.ipynb",
   "output_path": "__notebook__.ipynb",
   "parameters": {},
   "start_time": "2025-03-25T12:05:52.036373",
   "version": "2.6.0"
  }
 },
 "nbformat": 4,
 "nbformat_minor": 5
}
